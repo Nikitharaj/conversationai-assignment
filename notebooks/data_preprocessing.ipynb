{
 "cells": [
  {
   "cell_type": "markdown",
   "metadata": {},
   "source": [
    "# Financial Q&A Systems - Data Preprocessing\n",
    "\n",
    "This notebook demonstrates the process of preprocessing financial documents and generating Q&A pairs for the RAG and Fine-Tuned systems.\n"
   ]
  },
  {
   "cell_type": "markdown",
   "metadata": {},
   "source": [
    "## Setup and Imports\n"
   ]
  },
  {
   "cell_type": "code",
   "execution_count": 1,
   "metadata": {},
   "outputs": [],
   "source": [
    "import os\n",
    "import sys\n",
    "import json\n",
    "from pathlib import Path\n",
    "import pandas as pd\n",
    "import matplotlib.pyplot as plt\n",
    "import seaborn as sns\n",
    "\n",
    "# Add the project root to the path\n",
    "project_root = Path.cwd().parent\n",
    "sys.path.append(str(project_root))\n",
    "\n",
    "# Import project modules\n",
    "from src.data_processing.document_processor import DocumentProcessor\n",
    "from src.data_processing.qa_generator import QAGenerator\n"
   ]
  },
  {
   "cell_type": "markdown",
   "metadata": {},
   "source": [
    "## Define Paths\n"
   ]
  },
  {
   "cell_type": "code",
   "execution_count": 2,
   "metadata": {},
   "outputs": [],
   "source": [
    "# Define paths\n",
    "DATA_DIR = project_root / \"data\"\n",
    "RAW_DIR = DATA_DIR / \"raw\"\n",
    "PROCESSED_DIR = DATA_DIR / \"processed\"\n",
    "QA_PAIRS_DIR = DATA_DIR / \"qa_pairs\"\n",
    "\n",
    "# Create directories if they don't exist\n",
    "RAW_DIR.mkdir(parents=True, exist_ok=True)\n",
    "PROCESSED_DIR.mkdir(parents=True, exist_ok=True)\n",
    "QA_PAIRS_DIR.mkdir(parents=True, exist_ok=True)\n"
   ]
  },
  {
   "cell_type": "markdown",
   "metadata": {},
   "source": [
    "## Step 1: Process Financial Documents\n",
    "\n",
    "In this step, we'll process the raw financial documents (PDF, Excel, HTML) and convert them to clean text.\n"
   ]
  },
  {
   "cell_type": "code",
   "execution_count": 3,
   "metadata": {},
   "outputs": [
    {
     "name": "stdout",
     "output_type": "stream",
     "text": [
      "Found 2 files in the raw directory:\n",
      "  - sample_financial_report_2023.txt\n",
      "  - sample_financial_report_2022.txt\n"
     ]
    }
   ],
   "source": [
    "# Initialize the document processor\n",
    "processor = DocumentProcessor(output_dir=PROCESSED_DIR)\n",
    "\n",
    "# List files in the raw directory\n",
    "raw_files = list(RAW_DIR.glob(\"*\"))\n",
    "print(f\"Found {len(raw_files)} files in the raw directory:\")\n",
    "for file in raw_files:\n",
    "    print(f\"  - {file.name}\")\n"
   ]
  },
  {
   "cell_type": "code",
   "execution_count": 4,
   "metadata": {},
   "outputs": [
    {
     "name": "stdout",
     "output_type": "stream",
     "text": [
      "Processing sample_financial_report_2023.txt...\n",
      "  - Processed text length: 4978 characters\n",
      "Processing sample_financial_report_2022.txt...\n",
      "  - Processed text length: 4859 characters\n"
     ]
    }
   ],
   "source": [
    "# Process each file\n",
    "processed_files = []\n",
    "\n",
    "# For text files, we can just copy them to the processed directory\n",
    "for file_path in raw_files:\n",
    "    try:\n",
    "        print(f\"Processing {file_path.name}...\")\n",
    "        \n",
    "        # For text files, just read and write to processed dir\n",
    "        if file_path.suffix.lower() == '.txt':\n",
    "            with open(file_path, 'r', encoding='utf-8') as f:\n",
    "                text_content = f.read()\n",
    "            \n",
    "            output_file = PROCESSED_DIR / f\"{file_path.stem}.txt\"\n",
    "            with open(output_file, 'w', encoding='utf-8') as f:\n",
    "                f.write(text_content)\n",
    "            \n",
    "            processed_files.append(output_file)\n",
    "            print(f\"  - Processed text length: {len(text_content)} characters\")\n",
    "        else:\n",
    "            # Use the document processor for other file types\n",
    "            processed_text = processor.process_document(file_path)\n",
    "            processed_files.append(PROCESSED_DIR / f\"{file_path.stem}.txt\")\n",
    "            print(f\"  - Processed text length: {len(processed_text)} characters\")\n",
    "    except Exception as e:\n",
    "        print(f\"  - Error processing {file_path.name}: {e}\")\n",
    "\n",
    "# If no files were processed, manually process the raw files\n",
    "if not processed_files:\n",
    "    print(\"\\nNo files were processed. Manually processing raw files...\")\n",
    "    # Get raw files directly from the directory\n",
    "    manual_raw_files = list(RAW_DIR.glob(\"*\"))\n",
    "    for file_path in manual_raw_files:\n",
    "        try:\n",
    "            print(f\"Manually processing {file_path.name}...\")\n",
    "            \n",
    "            # For text files, just read and write to processed dir\n",
    "            if file_path.suffix.lower() == '.txt':\n",
    "                with open(file_path, 'r', encoding='utf-8') as f:\n",
    "                    text_content = f.read()\n",
    "                \n",
    "                output_file = PROCESSED_DIR / f\"{file_path.stem}.txt\"\n",
    "                with open(output_file, 'w', encoding='utf-8') as f:\n",
    "                    f.write(text_content)\n",
    "                \n",
    "                processed_files.append(output_file)\n",
    "                print(f\"  - Processed text length: {len(text_content)} characters\")\n",
    "        except Exception as e:\n",
    "            print(f\"  - Error processing {file_path.name}: {e}\")\n",
    "            \n",
    "    print(f\"Manually processed {len(processed_files)} files.\")\n"
   ]
  },
  {
   "cell_type": "markdown",
   "metadata": {},
   "source": [
    "## Step 2: Segment Documents by Section\n",
    "\n",
    "Now, we'll segment the processed documents into sections (income statement, balance sheet, etc.).\n"
   ]
  },
  {
   "cell_type": "code",
   "execution_count": 5,
   "metadata": {},
   "outputs": [
    {
     "name": "stdout",
     "output_type": "stream",
     "text": [
      "Segmenting sample_financial_report_2023.txt...\n",
      "  - Found 8 sections:\n",
      "    - General\n",
      "    - INCOME STATEMENT\n",
      "    - BALANCE SHEET\n",
      "    - CASH FLOW STATEMENT\n",
      "    - Cash Flow from Operating Activities\n",
      "    - Cash Flow from Investing Activities\n",
      "    - Cash Flow from Financing Activities\n",
      "    - ACME Corporation delivered strong financial performance in fiscal year 2023, with growth in revenue, improved profitability, and solid cash flow generation. Looking ahead to fiscal year 2024, we expect continued growth driven by our innovation pipeline and expansion into new markets. We anticipate revenue growth of 8-10% and a further improvement in profit margins.\n",
      "Segmenting sample_financial_report_2022.txt...\n",
      "  - Found 8 sections:\n",
      "    - General\n",
      "    - INCOME STATEMENT\n",
      "    - BALANCE SHEET\n",
      "    - CASH FLOW STATEMENT\n",
      "    - Cash Flow from Operating Activities\n",
      "    - Cash Flow from Investing Activities\n",
      "    - Cash Flow from Financing Activities\n",
      "    - ACME Corporation delivered solid financial performance in fiscal year 2022, with growth in revenue, improved profitability, and strong cash flow generation. Looking ahead to fiscal year 2023, we expect continued growth driven by our innovation pipeline and expansion into new markets. We anticipate revenue growth of 6-8% and a further improvement in profit margins.\n"
     ]
    }
   ],
   "source": [
    "# Segment each processed document\n",
    "segmented_documents = {}\n",
    "\n",
    "for file_path in processed_files:\n",
    "    try:\n",
    "        print(f\"Segmenting {file_path.name}...\")\n",
    "        with open(file_path, 'r', encoding='utf-8') as f:\n",
    "            text = f.read()\n",
    "        \n",
    "        # Segment the document\n",
    "        sections = processor.segment_by_section(text)\n",
    "        segmented_documents[file_path.stem] = sections\n",
    "        \n",
    "        print(f\"  - Found {len(sections)} sections:\")\n",
    "        for section_name in sections.keys():\n",
    "            print(f\"    - {section_name}\")\n",
    "    except Exception as e:\n",
    "        print(f\"  - Error segmenting {file_path.name}: {e}\")\n"
   ]
  },
  {
   "cell_type": "markdown",
   "metadata": {},
   "source": [
    "## Step 3: Generate Q&A Pairs\n",
    "\n",
    "Now, we'll generate Q&A pairs from the processed documents.\n"
   ]
  },
  {
   "cell_type": "code",
   "execution_count": 6,
   "metadata": {},
   "outputs": [
    {
     "name": "stdout",
     "output_type": "stream",
     "text": [
      "Generating Q&A pairs from sample_financial_report_2023.txt...\n",
      "  - Generated 10 Q&A pairs\n",
      "Generating Q&A pairs from sample_financial_report_2022.txt...\n",
      "  - Generated 10 Q&A pairs\n"
     ]
    }
   ],
   "source": [
    "# Initialize the Q&A generator\n",
    "qa_generator = QAGenerator(output_dir=QA_PAIRS_DIR)\n",
    "\n",
    "# Generate Q&A pairs for each processed document\n",
    "all_qa_pairs = []\n",
    "\n",
    "for file_path in processed_files:\n",
    "    try:\n",
    "        print(f\"Generating Q&A pairs from {file_path.name}...\")\n",
    "        qa_pairs = qa_generator.generate_qa_pairs(file_path, num_pairs=10)\n",
    "        all_qa_pairs.extend(qa_pairs)\n",
    "        print(f\"  - Generated {len(qa_pairs)} Q&A pairs\")\n",
    "    except Exception as e:\n",
    "        print(f\"  - Error generating Q&A pairs from {file_path.name}: {e}\")\n"
   ]
  },
  {
   "cell_type": "markdown",
   "metadata": {},
   "source": [
    "## Step 4: Split Q&A Pairs into Train and Test Sets\n",
    "\n",
    "We'll split the Q&A pairs into training (40) and testing (10) sets.\n"
   ]
  },
  {
   "cell_type": "code",
   "execution_count": 7,
   "metadata": {},
   "outputs": [
    {
     "name": "stdout",
     "output_type": "stream",
     "text": [
      "Generating Q&A pairs from sample_financial_report_2023.txt...\n",
      "  - Generated 10 Q&A pairs\n",
      "  - Saved Q&A pairs to /Users/raj/Documents/BITS/C_AI_assignment/data/qa_pairs/sample_financial_report_2023_qa_pairs.json\n",
      "Generating Q&A pairs from sample_financial_report_2022.txt...\n",
      "  - Generated 10 Q&A pairs\n",
      "  - Saved Q&A pairs to /Users/raj/Documents/BITS/C_AI_assignment/data/qa_pairs/sample_financial_report_2022_qa_pairs.json\n"
     ]
    }
   ],
   "source": [
    "# Generate Q&A pairs for each processed document\n",
    "all_qa_pairs = []\n",
    "\n",
    "for file_path in processed_files:\n",
    "    try:\n",
    "        print(f\"Generating Q&A pairs from {file_path.name}...\")\n",
    "        qa_pairs = qa_generator.generate_qa_pairs(file_path, num_pairs=10)\n",
    "        all_qa_pairs.extend(qa_pairs)\n",
    "        print(f\"  - Generated {len(qa_pairs)} Q&A pairs\")\n",
    "        \n",
    "        # Save the Q&A pairs for this document\n",
    "        output_file = QA_PAIRS_DIR / f\"{file_path.stem}_qa_pairs.json\"\n",
    "        with open(output_file, \"w\", encoding=\"utf-8\") as f:\n",
    "            json.dump(qa_pairs, f, indent=2)\n",
    "        print(f\"  - Saved Q&A pairs to {output_file}\")\n",
    "    except Exception as e:\n",
    "        print(f\"  - Error generating Q&A pairs from {file_path.name}: {e}\")\n",
    "        import traceback\n",
    "        traceback.print_exc()"
   ]
  },
  {
   "cell_type": "markdown",
   "metadata": {},
   "source": [
    "## Step 5: Analyze Q&A Pairs\n",
    "\n",
    "Let's analyze the generated Q&A pairs to understand their characteristics.\n"
   ]
  },
  {
   "cell_type": "code",
   "execution_count": 8,
   "metadata": {},
   "outputs": [
    {
     "data": {
      "image/png": "[encoded data removed]",
      "text/plain": [
       "<Figure size 1200x500 with 2 Axes>"
      ]
     },
     "metadata": {},
     "output_type": "display_data"
    },
    {
     "name": "stdout",
     "output_type": "stream",
     "text": [
      "Question Length Statistics:\n",
      "  - Train: Min=40, Max=57, Avg=48.5\n",
      "  - Test: Min=57, Max=57, Avg=57.0\n",
      "\n",
      "Answer Length Statistics:\n",
      "  - Train: Min=21, Max=33, Avg=27.8\n",
      "  - Test: Min=21, Max=23, Avg=22.0\n"
     ]
    }
   ],
   "source": [
    "# Try to load the train and test sets if they exist\n",
    "train_pairs = []\n",
    "test_pairs = []\n",
    "\n",
    "try:\n",
    "    # Check if the files exist\n",
    "    train_file = QA_PAIRS_DIR / \"financial_qa_train.json\"\n",
    "    test_file = QA_PAIRS_DIR / \"financial_qa_test.json\"\n",
    "    \n",
    "    if train_file.exists() and test_file.exists():\n",
    "        with open(train_file, 'r', encoding='utf-8') as f:\n",
    "            train_pairs = json.load(f)\n",
    "        \n",
    "        with open(test_file, 'r', encoding='utf-8') as f:\n",
    "            test_pairs = json.load(f)\n",
    "        \n",
    "        # Analyze question and answer lengths\n",
    "        train_q_lengths = [len(pair[\"question\"]) for pair in train_pairs]\n",
    "        train_a_lengths = [len(pair[\"answer\"]) for pair in train_pairs]\n",
    "        \n",
    "        test_q_lengths = [len(pair[\"question\"]) for pair in test_pairs]\n",
    "        test_a_lengths = [len(pair[\"answer\"]) for pair in test_pairs]\n",
    "        \n",
    "        # Plot the distributions\n",
    "        fig, (ax1, ax2) = plt.subplots(1, 2, figsize=(12, 5))\n",
    "        \n",
    "        # Question length distribution\n",
    "        sns.histplot(train_q_lengths, kde=True, ax=ax1, label=\"Train\")\n",
    "        sns.histplot(test_q_lengths, kde=True, ax=ax1, label=\"Test\")\n",
    "        ax1.set_title(\"Question Length Distribution\")\n",
    "        ax1.set_xlabel(\"Length (characters)\")\n",
    "        ax1.legend()\n",
    "        \n",
    "        # Answer length distribution\n",
    "        sns.histplot(train_a_lengths, kde=True, ax=ax2, label=\"Train\")\n",
    "        sns.histplot(test_a_lengths, kde=True, ax=ax2, label=\"Test\")\n",
    "        ax2.set_title(\"Answer Length Distribution\")\n",
    "        ax2.set_xlabel(\"Length (characters)\")\n",
    "        ax2.legend()\n",
    "        \n",
    "        plt.tight_layout()\n",
    "        plt.show()\n",
    "        \n",
    "        # Print summary statistics\n",
    "        print(\"Question Length Statistics:\")\n",
    "        print(f\"  - Train: Min={min(train_q_lengths)}, Max={max(train_q_lengths)}, Avg={sum(train_q_lengths)/len(train_q_lengths):.1f}\")\n",
    "        print(f\"  - Test: Min={min(test_q_lengths)}, Max={max(test_q_lengths)}, Avg={sum(test_q_lengths)/len(test_q_lengths):.1f}\")\n",
    "        \n",
    "        print(\"\\nAnswer Length Statistics:\")\n",
    "        print(f\"  - Train: Min={min(train_a_lengths)}, Max={max(train_a_lengths)}, Avg={sum(train_a_lengths)/len(train_a_lengths):.1f}\")\n",
    "        print(f\"  - Test: Min={min(test_a_lengths)}, Max={max(test_a_lengths)}, Avg={sum(test_a_lengths)/len(test_a_lengths):.1f}\")\n",
    "    else:\n",
    "        print(\"Q&A pair files not found. Please run the previous steps to generate them.\")\n",
    "except Exception as e:\n",
    "    print(f\"Error analyzing Q&A pairs: {e}\")\n"
   ]
  },
  {
   "cell_type": "markdown",
   "metadata": {},
   "source": [
    "## Step 6: Create Official Test Questions\n",
    "\n",
    "Finally, let's create the three official test questions: high-confidence, low-confidence, and irrelevant.\n"
   ]
  },
  {
   "cell_type": "code",
   "execution_count": 9,
   "metadata": {},
   "outputs": [
    {
     "name": "stdout",
     "output_type": "stream",
     "text": [
      "Official test questions created and saved.\n"
     ]
    }
   ],
   "source": [
    "# Create official test questions\n",
    "official_questions = [\n",
    "    {\n",
    "        \"question\": \"What was the revenue in the most recent fiscal year?\",\n",
    "        \"answer\": \"The revenue for the most recent fiscal year was $1,250 million.\",\n",
    "        \"type\": \"high_confidence\"\n",
    "    },\n",
    "    {\n",
    "        \"question\": \"How does the company's profit margin compare to industry average?\",\n",
    "        \"answer\": \"The company's profit margin was 15% in 2023, which is an improvement from 14.4% in 2022. No specific industry average is provided in the documents.\",\n",
    "        \"type\": \"low_confidence\"\n",
    "    },\n",
    "    {\n",
    "        \"question\": \"What is your favorite color?\",\n",
    "        \"answer\": \"I can only answer questions related to financial information in the provided documents.\",\n",
    "        \"type\": \"irrelevant\"\n",
    "    }\n",
    "]\n",
    "\n",
    "# Save the official questions\n",
    "with open(QA_PAIRS_DIR / \"official_questions.json\", 'w', encoding='utf-8') as f:\n",
    "    json.dump(official_questions, f, indent=2)\n",
    "\n",
    "print(\"Official test questions created and saved.\")\n"
   ]
  },
  {
   "cell_type": "markdown",
   "metadata": {},
   "source": [
    "## Summary\n",
    "\n",
    "In this notebook, we've completed the following steps:\n",
    "\n",
    "1. Processed raw financial documents into clean text\n",
    "2. Segmented documents by section\n",
    "3. Generated Q&A pairs from the processed documents\n",
    "4. Split the Q&A pairs into training and testing sets\n",
    "5. Analyzed the characteristics of the Q&A pairs\n",
    "6. Created official test questions for evaluation\n",
    "\n",
    "The processed data is now ready for use in the RAG and Fine-Tuned systems.\n"
   ]
  }
 ],
 "metadata": {
  "kernelspec": {
   "display_name": "CAI",
   "language": "python",
   "name": "python3"
  },
  "language_info": {
   "codemirror_mode": {
    "name": "ipython",
    "version": 3
   },
   "file_extension": ".py",
   "mimetype": "text/x-python",
   "name": "python",
   "nbconvert_exporter": "python",
   "pygments_lexer": "ipython3",
   "version": "3.10.18"
  }
 },
 "nbformat": 4,
 "nbformat_minor": 2
}
